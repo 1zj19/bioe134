{
 "cells": [
  {
   "cell_type": "markdown",
   "metadata": {},
   "source": [
    "#Gene Synthesis Final Project\n",
    "\n",
    "Given an input string of a DNA sequence, this function identifies annealing regions of 18-25 base pairs around the end of an interval of 30 or so base pairs. It chooses options that lack hairpins, unbalanced nucleotide content, contain at least one of each nucleotide, and have optimal GC content. Then, it synthesizes the oligonucleotides from the given strand and from its complement so that our oligos will be overlapping at the beginning and end of each one in either direction. \n",
    "\n",
    "From ChatGPT:\n",
    "The synthesis by synthons, often referred to as the Gibbard method, is a valuable approach in gene synthesis due to its ability to generate longer DNA sequences efficiently. This method involves the stepwise assembly of shorter DNA fragments called synthons, which are typically around 50 to 100 base pairs in length. [NOTE: our synthons are much longer–minimum 400 bps] These synthons, each synthesized separately, contain overlapping regions that enable their assembly into larger, full-length DNA sequences.\n",
    "\n",
    "There are several reasons why synthesis by synthons is advantageous:\n",
    "\n",
    "Error Correction: Synthesis by synthons allows for the correction of errors in individual shorter fragments. If an error is detected in one of the synthons, it can be rectified by synthesizing a new correct fragment, rather than the entire sequence, thereby minimizing the impact of errors in the final assembly.\n",
    "\n",
    "Modularity and Flexibility: The approach offers modularity, as the DNA sequence can be divided into smaller, more manageable fragments, simplifying the synthesis process. It also provides flexibility in designing and modifying specific regions or segments of the DNA sequence independently, facilitating customization of sequences for different applications.\n",
    "\n",
    "Enhanced Efficiency: Synthesis by assembling shorter fragments enhances the efficiency of the overall process. It is often faster and more cost-effective than synthesizing longer sequences in a single step, particularly for longer DNA constructs.\n",
    "\n",
    "Minimized Synthesis Challenges: Synthesis of longer DNA sequences as a single piece can be technically challenging and prone to errors or failures. By breaking down the sequence into smaller units (synthons), each synthesis step becomes more reliable and manageable.\n",
    "\n",
    "Error Screening and Quality Control: Assembling shorter synthons allows for better error screening and quality control at each step of synthesis. It enables the identification and rectification of errors in individual fragments before their assembly into the final full-length sequence, thereby improving the overall quality of the synthesized DNA.\n",
    "\n",
    "Facilitation of Complex DNA Constructs: For the construction of complex DNA sequences, such as genes with repeated motifs or intricate structures, synthesis by synthons provides a systematic and controlled approach to build and validate each part separately before assembly.\n",
    "\n",
    "Overall, the synthesis by synthons or the Gibbard method offers a practical and effective strategy for synthesizing longer DNA sequences, enabling error correction, modularity, efficiency, and enhanced quality control throughout the process. These advantages make it a valuable method in gene synthesis and synthetic biology research."
   ]
  },
  {
   "cell_type": "code",
   "execution_count": 49,
   "metadata": {},
   "outputs": [
    {
     "name": "stdout",
     "output_type": "stream",
     "text": [
      "Test passed!\n"
     ]
    }
   ],
   "source": [
    "# Outputs the complement \n",
    "#(NOT reversing so we can preserve left to right indices for both strands.)\n",
    "def reverse_complement(sequence):\n",
    "    complement = {'A': 'T', 'T': 'A', 'C': 'G', 'G': 'C'}\n",
    "    reverse_sequence = ''.join(complement[base] for base in reversed(sequence))\n",
    "    return reverse_sequence\n",
    "\n",
    "def test_complement():\n",
    "    sequence = \"ATCGATCGATCG\"\n",
    "    expected_result = \"CGATCGATCGAT\"\n",
    "    \n",
    "    result = reverse_complement(sequence)\n",
    "    \n",
    "    assert result == expected_result, f\"Expected: {expected_result}, but got: {result}\"\n",
    "    print(\"Test passed!\")\n",
    "\n",
    "# Run the test\n",
    "test_complement()\n"
   ]
  },
  {
   "cell_type": "code",
   "execution_count": 50,
   "metadata": {},
   "outputs": [
    {
     "name": "stdout",
     "output_type": "stream",
     "text": [
      "Tests passed!\n"
     ]
    }
   ],
   "source": [
    "def has_repeats(sequence):\n",
    "    i = 0\n",
    "    while i < len(sequence):\n",
    "        j = i + 1\n",
    "        count = 1\n",
    "        while j < len(sequence) and sequence[i] == sequence[j]:\n",
    "            count += 1\n",
    "            j += 1\n",
    "        if count >= 4:\n",
    "            return 1  # Repeat found\n",
    "        i = j\n",
    "    return 0  # No repeat longer than 4 found\n",
    "\n",
    "def has_repeats_test():\n",
    "    sequence_with_repeat = \"ATCCCCCCGATCGCGCGCGATCG\"\n",
    "    sequence_without_repeat = \"ATCGATCGATCGATCG\"\n",
    "\n",
    "    assert has_repeats(sequence_with_repeat) == 1, \"Repeat should be found in the sequence\"\n",
    "    assert has_repeats(sequence_without_repeat) == 0, \"No repeat should be found in the sequence\"\n",
    "    print(\"Tests passed!\")\n",
    "\n",
    "# Run the test\n",
    "has_repeats_test()\n"
   ]
  },
  {
   "cell_type": "markdown",
   "metadata": {},
   "source": [
    "Ensure no one of any base pair / nucleotide exceeds 40% content"
   ]
  },
  {
   "cell_type": "code",
   "execution_count": 51,
   "metadata": {},
   "outputs": [
    {
     "name": "stdout",
     "output_type": "stream",
     "text": [
      "The DNA sequence composition is not balanced.\n"
     ]
    }
   ],
   "source": [
    "def has_balanced_composition(dna_sequence):\n",
    "    length = len(dna_sequence)\n",
    "    base_count = { 'A': 0, 'T': 0, 'C': 0, 'G': 0 }\n",
    "\n",
    "    for base in dna_sequence:\n",
    "        base_count[base] += 1\n",
    "\n",
    "    for count in base_count.values():\n",
    "        if count / length > 0.4:\n",
    "            return 1\n",
    "\n",
    "    return 0\n",
    "\n",
    "# Example usage:\n",
    "dna_sequence = \"ATTTTTTTTCGAAAAAATCGGGGGGGGGGGGGATCG\"  # Replace this with your DNA sequence\n",
    "result = has_balanced_composition(dna_sequence)\n",
    "\n",
    "if result == 0:\n",
    "    print(\"The DNA sequence has a balanced composition.\")\n",
    "else:\n",
    "    print(\"The DNA sequence composition is not balanced.\")\n"
   ]
  },
  {
   "cell_type": "markdown",
   "metadata": {},
   "source": [
    "Ensure there aren't hairpins in the oligo:"
   ]
  },
  {
   "cell_type": "code",
   "execution_count": 52,
   "metadata": {},
   "outputs": [
    {
     "name": "stdout",
     "output_type": "stream",
     "text": [
      "Potential hairpin structure detected in the sequence.\n"
     ]
    }
   ],
   "source": [
    "def has_hairpin(sequence):\n",
    "    min_length = 18\n",
    "    max_length = 25\n",
    "    threshold = 20  # Adjust this threshold as needed\n",
    "\n",
    "    if len(sequence) < min_length or len(sequence) > max_length:\n",
    "        raise ValueError(\"Sequence length should be between 18 and 25 nucleotides.\")\n",
    "\n",
    "    for length in range(min_length, len(sequence) + 1):\n",
    "        for start in range(len(sequence) - length + 1):\n",
    "            end = start + length\n",
    "            window_sequence = sequence[start:end]\n",
    "\n",
    "            # Your logic to check for secondary structures in the window_sequence\n",
    "            # Use the HairpinCounter equivalent function here\n",
    "            \n",
    "            # For demonstration, assuming a random score for hairpin structure\n",
    "            score = calculate_hairpin_score(window_sequence)\n",
    "\n",
    "            if score > threshold:\n",
    "                return 1  # Hairpin structure found\n",
    "\n",
    "    return 0  # No hairpin structure detected\n",
    "\n",
    "# Example usage:\n",
    "input_sequence = \"ATCGTTGCCACGATCGAT\"  # Replace with your DNA sequence\n",
    "\n",
    "result = check_for_hairpin(input_sequence)\n",
    "\n",
    "if result == 0:\n",
    "    print(\"Potential hairpin structure detected in the sequence.\")\n",
    "else:\n",
    "    print(\"No hairpin structure found in the sequence.\")\n"
   ]
  },
  {
   "cell_type": "markdown",
   "metadata": {},
   "source": [
    "Ensure there are no missing bases."
   ]
  },
  {
   "cell_type": "code",
   "execution_count": 53,
   "metadata": {},
   "outputs": [
    {
     "name": "stdout",
     "output_type": "stream",
     "text": [
      "The DNA sequence contains at least one of each nucleotide.\n"
     ]
    }
   ],
   "source": [
    "def has_all_nucleotides(dna_sequence):\n",
    "    nucleotides = {'A', 'T', 'C', 'G'}\n",
    "\n",
    "    present_nucleotides = set(dna_sequence)\n",
    "    if nucleotides.issubset(present_nucleotides):\n",
    "        return 0\n",
    "    return 1 #1 is fail\n",
    "\n",
    "# Example usage:\n",
    "dna_sequence = \"ATCGATCGATCG\"  # Replace this with your DNA sequence\n",
    "result = has_all_nucleotides(dna_sequence)\n",
    "\n",
    "if result == 0:\n",
    "    print(\"The DNA sequence contains at least one of each nucleotide.\")\n",
    "else:\n",
    "    print(\"The DNA sequence does not contain at least one of each nucleotide.\")\n"
   ]
  },
  {
   "cell_type": "markdown",
   "metadata": {},
   "source": [
    "The following function is for long strands of DNA, of over 300bps (but preferably around 600bps)"
   ]
  },
  {
   "cell_type": "code",
   "execution_count": 84,
   "metadata": {},
   "outputs": [],
   "source": [
    "def design_oligos(dna_sequence):\n",
    "    assert len(dna_sequence) > 300, \"DNA sequence is too short to run synthesize by Gibbard Method\"\n",
    "\n",
    "    interval = 30\n",
    "    min_annealing_length = 18\n",
    "    max_annealing_length = 25\n",
    "        \n",
    "    # Return the best indices with a range near the end of the interval\n",
    "    def find_annealing_region(start_index, end_index):\n",
    "        best_region = ()\n",
    "        best_score = 0\n",
    "\n",
    "        for length in range(min_annealing_length, max_annealing_length+1):\n",
    "            for i in range(start_index, end_index - length):\n",
    "                region  = dna_sequence[i:i + length]\n",
    "\n",
    "                # Bump score for GC content btwn 50%-65%\n",
    "                score = (region.count('G') + region.count('C')) / len(region)\n",
    "                gc_content = (region.count('G') + region.count('C')) / len(region) # Outputs fraction of GC content\n",
    "                if gc_content >= 0.5 and gc_content <= .65:\n",
    "                    score += 5\n",
    "                \n",
    "                # Reduce score if homopolymeric run is found\n",
    "                score -= has_repeats(region)\n",
    "                score -= has_all_nucleotides(region)\n",
    "                score -= has_balanced_composition(region)\n",
    "                score -= has_hairpin(region)\n",
    "                \n",
    "                if score > best_score:\n",
    "                    best_score = score\n",
    "                    best_region = (i, i + max_annealing_length)\n",
    "\n",
    "        # assert best_score > 0, \"Wildly bad annealing region options\"\n",
    "        return best_region\n",
    "    \n",
    "    annealing_indices = []\n",
    "    # Create oligos at either 3' end\n",
    "    annealing_indices.append((0, 18))\n",
    "    for i in range(18, len(dna_sequence) - 30, interval):\n",
    "        annealing_region = find_annealing_region(i-15, i+15)\n",
    "        annealing_indices.append(annealing_region)\n",
    "    annealing_indices.append((len(dna_sequence) - 18, len(dna_sequence)-1))\n",
    "    # print(annealing_indices)\n",
    "    \n",
    "    # Reverse complement the DNA sequence\n",
    "    complement = reverse_complement(dna_sequence)\n",
    "\n",
    "    # Create substrings of oligos from the oligo indices\n",
    "    forward_oligos = []\n",
    "    back_oligos = []\n",
    "    for i in range(0, len(annealing_indices) - 1, 2):\n",
    "        forward_oligos.append(dna_sequence[annealing_indices[i][0]:annealing_indices[i+1][1]])\n",
    "    \n",
    "    for i in range(len(annealing_indices) - 1, 0, -2):\n",
    "        # print(len(complement) - annealing_indices[i][1], len(complement) - annealing_indices[i][0])\n",
    "        back_oligos.append(complement[len(complement) - annealing_indices[i][1]:len(complement) - annealing_indices[i][0]])\n",
    "\n",
    "    return forward_oligos + back_oligos\n"
   ]
  },
  {
   "cell_type": "code",
   "execution_count": 85,
   "metadata": {},
   "outputs": [
    {
     "name": "stdout",
     "output_type": "stream",
     "text": [
      "['CTCGATACGTTTAGCACGTTTCTGTCACGTGCGATGT', 'GTAGCATCGCTCATCGACCGTACTAGCTTCTTTCGACTCGTAGACGGATCCGCGCACT', 'TGATCAGCTTCATCAGCTATGCAACGTAGCGCTGGGCTAGCCATACG', 'CCTCGAGGATTTCTAGCTACTTTAATGACGTAGCTTCTACTAGGACGTTGCTAGGAT', 'TCAGTGTATCGTAGTAGCAGTCTAGGGTACTTTACGAGGCGGAGTCGACGACGT', 'CGATGCTACATCGTAGTAGCATCTAGCTCGACTGATTCGTACCGAGAGGAGATCGTCGCTA', 'AGCGCACTCGATCATCA', 'TAGATGCTACTACGATGTAGCATCG', 'CTAGACTGCTACTACGATACACTGA', 'TTAAAGTAGCTAGAAATCCTCGAGG', 'GTTGCATAGCTGATGAAGCTGATCA', 'TAGTACGGTCGATGAGCGATGCTAC']\n"
     ]
    }
   ],
   "source": [
    "oligo_list = design_oligos(\"CTCGATACGTTTAGCACGTTTCTGTCACGTGCGATGTACGTAGCATCGCTCATCGACCGTACTAGCTTCTTTCGACTCGTAGACGGATCCGCGCACTTTACTTTGATCAGCTTCATCAGCTATGCAACGTAGCGCTGGGCTAGCCATACGTTACCTCGAGGATTTCTAGCTACTTTAATGACGTAGCTTCTACTAGGACGTTGCTAGGATAGCTTTGTTGATCAGTGTATCGTAGTAGCAGTCTAGGGTACTTTACGAGGCGGAGTCGACGACGTTACGATGCTACATCGTAGTAGCATCTAGCTCGACTGATTCGTACCGAGAGGAGATCGTCGCTAGTCGTTACGTTCTGATGATCGAGTGCGCTT\")\n",
    "\n",
    "print(oligo_list)"
   ]
  },
  {
   "cell_type": "code",
   "execution_count": 67,
   "metadata": {},
   "outputs": [
    {
     "name": "stdout",
     "output_type": "stream",
     "text": [
      "Test passed! Assertion error occurred as expected.\n"
     ]
    }
   ],
   "source": [
    "def test_design_oligos_short_sequence():\n",
    "    # Create a short DNA sequence\n",
    "    short_sequence = \"ATCG\"  # Assuming this sequence is shorter than 300 nucleotides\n",
    "\n",
    "    try:\n",
    "        result = design_oligos(short_sequence)\n",
    "        print(res)\n",
    "    except AssertionError as e:\n",
    "        assert str(e) == \"DNA sequence is too short to run synthesize by Gibbard Method\", \"AssertionError message doesn't match\"\n",
    "        print(\"Test passed! Assertion error occurred as expected.\")\n",
    "    else:\n",
    "        raise AssertionError(\"Expected AssertionError due to short sequence length, but no error was raised.\")\n",
    "\n",
    "# Run the test\n",
    "test_design_oligos_short_sequence()\n"
   ]
  },
  {
   "cell_type": "code",
   "execution_count": 86,
   "metadata": {},
   "outputs": [
    {
     "name": "stdout",
     "output_type": "stream",
     "text": [
      "Gibbard Method Protocol\n",
      "\n",
      "This protocol outlines the steps to assemble DNA synthons using the Gibbard method in the wet lab.\n",
      "\n",
      "Step 1: Synthesis of DNA Synthons\n",
      "- Synthesize individual DNA fragments (synthons) with overlapping regions.\n",
      "\n",
      "Step 2: Oligonucleotide Preparation\n",
      "- Order complementary oligonucleotides for each overlapping region.\n",
      "- Ensure oligos are purified and free from contaminants.\n",
      "\n",
      "Step 3: Annealing of Synthons and Oligos\n",
      "- Prepare a reaction mixture with synthons and complementary oligos.\n",
      "- Perform annealing by heating and gradual cooling to enable hybridization.\n",
      "\n",
      "Step 4: Ligation or Assembly Reaction\n",
      "- Use DNA ligase or appropriate enzymes for covalent joining of synthons and oligos.\n",
      "\n",
      "Step 5: Purification of Assembled DNA\n",
      "- Purify the assembled DNA product to remove excess oligos and reaction components.\n",
      "\n",
      "Step 6: Quality Control and Validation\n",
      "- Analyze the purified DNA product through gel electrophoresis or sequencing.\n",
      "- Perform functional assays or downstream applications to validate the sequence.\n",
      "\n",
      "Step 7: Iterative Optimization\n",
      "- If needed, optimize synthesis conditions and repeat the assembly process.\n",
      "\n",
      "Ordering Oligonucleotides:\n",
      "- Use the following list of oligos for the Gibbard method:\n",
      "1. ATCGATCGATCGATCGATCGATCGATCG\n",
      "2. CGATCGATCGATCGATCGATCGATCGATCGATCGATCGATCGATCGATCGATC\n",
      "3. CGATCGATCGATCGATCGATCGATCGATCGATCGATCGATCGATCGATCGATCGATC\n",
      "4. CGATCGATCGATCGATCGATCGATCGATCGATCGATCGATCGATCGATCGATCGATC\n",
      "5. CGATCGATCGATCGATCGATCGATCGATCGATCGATCGATCGATCGATCGATCGATC\n",
      "6. CGATCGATCGATCGATCGATCGATCGATCGATCGATCGATCGATCGATCGATCGATC\n",
      "7. CGATCGATCGATCGATCGATCGATCGATCGATCGATCGATCGATCGATCGATCGATC\n",
      "8. CGATCGATCGATCGATCGATCGATCGATCGATCGATCGATCGATCGATCGATC\n",
      "9. CGATCGATCGATCGATCGATCGATCGATCGATCGATCGATCGATCGATC\n",
      "10. GATCGATCGATCGATCG\n",
      "11. GATCGATCGATCGATCGATCGATCG\n",
      "12. GATCGATCGATCGATCGATCGATCG\n",
      "13. GATCGATCGATCGATCGATCGATCG\n",
      "14. GATCGATCGATCGATCGATCGATCG\n",
      "15. GATCGATCGATCGATCGATCGATCG\n",
      "16. GATCGATCGATCGATCGATCGATCG\n",
      "17. GATCGATCGATCGATCGATCGATCG\n",
      "18. CGATCGATCGATCGATCGATCGATC\n",
      "- Contact a DNA synthesis company and provide them with the list of oligos for ordering.\n",
      "\n",
      "\n",
      "Protocol instructions written to 'Gibbard_Method_Protocol.txt' successfully.\n"
     ]
    }
   ],
   "source": [
    "def generate_protocol_instructions(oligos, output_file):\n",
    "    # Header and introduction\n",
    "    instructions = \"Gibbard Method Protocol\\n\\n\"\n",
    "    instructions += \"This protocol outlines the steps to assemble DNA synthons using the Gibbard method in the wet lab.\\n\\n\"\n",
    "\n",
    "    # Step-by-step instructions\n",
    "    instructions += \"Step 1: Synthesis of DNA Synthons\\n\"\n",
    "    instructions += \"- Synthesize individual DNA fragments (synthons) with overlapping regions.\\n\\n\"\n",
    "\n",
    "    instructions += \"Step 2: Oligonucleotide Preparation\\n\"\n",
    "    instructions += \"- Order complementary oligonucleotides for each overlapping region.\\n\"\n",
    "    instructions += \"- Ensure oligos are purified and free from contaminants.\\n\\n\"\n",
    "\n",
    "    instructions += \"Step 3: Annealing of Synthons and Oligos\\n\"\n",
    "    instructions += \"- Prepare a reaction mixture with synthons and complementary oligos.\\n\"\n",
    "    instructions += \"- Perform annealing by heating and gradual cooling to enable hybridization.\\n\\n\"\n",
    "\n",
    "    instructions += \"Step 4: Ligation or Assembly Reaction\\n\"\n",
    "    instructions += \"- Use DNA ligase or appropriate enzymes for covalent joining of synthons and oligos.\\n\\n\"\n",
    "\n",
    "    instructions += \"Step 5: Purification of Assembled DNA\\n\"\n",
    "    instructions += \"- Purify the assembled DNA product to remove excess oligos and reaction components.\\n\\n\"\n",
    "\n",
    "    instructions += \"Step 6: Quality Control and Validation\\n\"\n",
    "    instructions += \"- Analyze the purified DNA product through gel electrophoresis or sequencing.\\n\"\n",
    "    instructions += \"- Perform functional assays or downstream applications to validate the sequence.\\n\\n\"\n",
    "\n",
    "    instructions += \"Step 7: Iterative Optimization\\n\"\n",
    "    instructions += \"- If needed, optimize synthesis conditions and repeat the assembly process.\\n\\n\"\n",
    "\n",
    "    # Ordering instructions for oligos from a company\n",
    "    instructions += \"Ordering Oligonucleotides:\\n\"\n",
    "    instructions += \"- Use the following list of oligos for the Gibbard method:\\n\"\n",
    "    for idx, oligo in enumerate(oligos, start=1):\n",
    "        instructions += f\"{idx}. {oligo}\\n\"\n",
    "    instructions += \"- Contact a DNA synthesis company and provide them with the list of oligos for ordering.\\n\\n\"\n",
    "\n",
    "    # Writing instructions to a text file\n",
    "    print(instructions)\n",
    "    print(f\"Protocol instructions written to '{output_file}' successfully.\")\n",
    "\n",
    "# Example:\n",
    "oligo_list = design_oligos(\"ATCGATCGATCGATCGATCGATCGATCGATCGATCGATCGATCGATCGATCGATCGATCGATCGATCGATCGATCGATCGATCGATCGATCGATCGATCGATCGATCGATCGATCGATCGATCGATCGATCGATCGATCGATCGATCGATCGATCGATCGATCGATCGATCGATCGATCGATCGATCGATCGATCGATCGATCGATCGATCGATCGATCGATCGATCGATCGATCGATCGATCGATCGATCGATCGATCGATCGATCGATCGATCGATCGATCGATCGATCGATCGATCGATCGATCGATCGATCGATCGATCGATCGATCGATCGATCGATCGATCGATCGATCGATCGATCGATCGATCGATCGATCGATCGATCGATCGATCGATCGATCGATCGATCGATCGATCGATCGATCGATCGATCGATCGATCGATCGATCGATCGATCGATCGATCGATCGATCGATCGATCGATCGATCGATCGATCGATCG\")\n",
    "\n",
    "output_filename = \"Gibbard_Method_Protocol.txt\"\n",
    "generate_protocol_instructions(oligo_list, output_filename)\n"
   ]
  }
 ],
 "metadata": {
  "kernelspec": {
   "display_name": "base",
   "language": "python",
   "name": "python3"
  },
  "language_info": {
   "codemirror_mode": {
    "name": "ipython",
    "version": 3
   },
   "file_extension": ".py",
   "mimetype": "text/x-python",
   "name": "python",
   "nbconvert_exporter": "python",
   "pygments_lexer": "ipython3",
   "version": "3.9.13"
  },
  "orig_nbformat": 4
 },
 "nbformat": 4,
 "nbformat_minor": 2
}
